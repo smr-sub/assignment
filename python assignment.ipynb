{
 "cells": [
  {
   "cell_type": "code",
   "execution_count": null,
   "id": "7d70684d-a35e-443c-9f39-07d141f78418",
   "metadata": {},
   "outputs": [],
   "source": [
    "SECTION[A]"
   ]
  },
  {
   "cell_type": "code",
   "execution_count": 2,
   "id": "bf290b78-535e-49bd-96a5-2703d6340ea0",
   "metadata": {},
   "outputs": [
    {
     "name": "stdout",
     "output_type": "stream",
     "text": [
      "Simple Calculator\n",
      "Operations: + for addition, - for subtraction, * for multiplication, / for division\n"
     ]
    },
    {
     "name": "stdin",
     "output_type": "stream",
     "text": [
      "Enter first number:  10\n",
      "Enter operator (+, -, *, /):  *\n",
      "Enter second number:  2\n"
     ]
    },
    {
     "name": "stdout",
     "output_type": "stream",
     "text": [
      "Result: 20.0\n"
     ]
    }
   ],
   "source": [
    "#basic calculator performing operations\n",
    "def calculator():\n",
    "    print(\"Simple Calculator\")\n",
    "    print(\"Operations: + for addition, - for subtraction, * for multiplication, / for division\")\n",
    "    \n",
    "    num1 = float(input(\"Enter first number: \"))\n",
    "    operator = input(\"Enter operator (+, -, *, /): \")\n",
    "    num2 = float(input(\"Enter second number: \"))\n",
    "    \n",
    "    if operator == '+':\n",
    "        result = num1 + num2\n",
    "        print(\"Result:\", result)\n",
    "    elif operator == '-':\n",
    "        result = num1 - num2\n",
    "        print(\"Result:\", result)\n",
    "    elif operator == '*':\n",
    "        result = num1 * num2\n",
    "        print(\"Result:\", result)\n",
    "    elif operator == '/':\n",
    "        if num2 == 0:\n",
    "            print(\"Error: Division by zero is not allowed.\")\n",
    "        else:\n",
    "            result = num1 / num2\n",
    "            print(\"Result:\", result)\n",
    "    else:\n",
    "        print(\"Invalid operator\")\n",
    "        \n",
    "if __name__ == \"__main__\":\n",
    "    calculator()"
   ]
  },
  {
   "cell_type": "code",
   "execution_count": 4,
   "id": "21e331c0-2dc2-48e7-913a-a8617fa34c96",
   "metadata": {},
   "outputs": [
    {
     "name": "stdin",
     "output_type": "stream",
     "text": [
      "Enter a decimal number: 10\n"
     ]
    },
    {
     "name": "stdout",
     "output_type": "stream",
     "text": [
      "Binary equivalent is: 1010\n"
     ]
    }
   ],
   "source": [
    "#decimal to binary conversion\n",
    "decimal=int(input(\"Enter a decimal number:\"))\n",
    "binary=bin(decimal)[2:]\n",
    "print(\"Binary equivalent is:\",binary)"
   ]
  },
  {
   "cell_type": "code",
   "execution_count": 8,
   "id": "80ee2498-7e5c-4b8a-87e6-7d508a2bb573",
   "metadata": {},
   "outputs": [
    {
     "name": "stdin",
     "output_type": "stream",
     "text": [
      "Enter your age: 19\n"
     ]
    },
    {
     "name": "stdout",
     "output_type": "stream",
     "text": [
      "you are an adult\n"
     ]
    }
   ],
   "source": [
    "#user age to display minor,adult,senior\n",
    "age=int(input(\"Enter your age:\"))\n",
    "if age<18:\n",
    "    print(\"you are a minor\")\n",
    "elif age<60:\n",
    "  print(\"you are an adult\")\n",
    "else:\n",
    "  print(\"you are an senior\")"
   ]
  },
  {
   "cell_type": "code",
   "execution_count": 9,
   "id": "1ebd5eaf-08dd-4446-b4ee-bdfa83f27a74",
   "metadata": {},
   "outputs": [
    {
     "name": "stdin",
     "output_type": "stream",
     "text": [
      "Enter first number(a): 25\n",
      "Enter second number(b): 15\n"
     ]
    },
    {
     "name": "stdout",
     "output_type": "stream",
     "text": [
      "After swapping:\n",
      "a= 15\n",
      "b= 25\n"
     ]
    }
   ],
   "source": [
    "#swap values of two variables without using third variable\n",
    "a=int(input(\"Enter first number(a):\"))\n",
    "b=int(input(\"Enter second number(b):\"))\n",
    "a=a+b\n",
    "b=a-b\n",
    "a=a-b\n",
    "print(\"After swapping:\")\n",
    "print(\"a=\",a)\n",
    "print(\"b=\",b)"
   ]
  },
  {
   "cell_type": "code",
   "execution_count": 34,
   "id": "4f72b341-c5c8-417b-b260-0aad1c77b08b",
   "metadata": {},
   "outputs": [
    {
     "name": "stdout",
     "output_type": "stream",
     "text": [
      "First 10 Fibonacci numbers: [0, 1, 1, 2, 3, 5, 8, 13, 21, 34]\n"
     ]
    }
   ],
   "source": [
    "#fibonacci series\n",
    "def fibonacci():\n",
    "    n = 10\n",
    "    fib = [0, 1]\n",
    "    for i in range(2, n):\n",
    "        fib.append(fib[i-1] + fib[i-2])\n",
    "    print(\"First 10 Fibonacci numbers:\", fib)\n",
    "    fibonacci()\n"
   ]
  },
  {
   "cell_type": "code",
   "execution_count": 13,
   "id": "1e5630b1-5837-45ba-b182-032ab677bcf8",
   "metadata": {},
   "outputs": [
    {
     "name": "stdin",
     "output_type": "stream",
     "text": [
      "Enter a number:  3\n"
     ]
    },
    {
     "name": "stdout",
     "output_type": "stream",
     "text": [
      "3 is a prime number.\n"
     ]
    }
   ],
   "source": [
    "#To check if the no is prime or not\n",
    "def is_prime():\n",
    "    num = int(input(\"Enter a number: \"))\n",
    "    if num <= 1:\n",
    "        print(f\"{num} is not a prime number.\")\n",
    "        return\n",
    "    for i in range(2, int(num ** 0.5) + 1):\n",
    "        if num % i == 0:\n",
    "            print(f\"{num} is not a prime number.\")\n",
    "            return\n",
    "    print(f\"{num} is a prime number.\")\n",
    "\n",
    "if __name__ == \"__main__\":\n",
    "    is_prime()"
   ]
  },
  {
   "cell_type": "code",
   "execution_count": 1,
   "id": "c50deaf9-d148-45c8-a101-3b48b84ffd7a",
   "metadata": {
    "scrolled": true
   },
   "outputs": [
    {
     "name": "stdin",
     "output_type": "stream",
     "text": [
      "Enter first number: 20\n",
      "Enter second number: 30\n",
      "Enter third number: 50\n"
     ]
    },
    {
     "name": "stdout",
     "output_type": "stream",
     "text": [
      "Yes,the third number is sum of the first two.\n"
     ]
    }
   ],
   "source": [
    "#to check if third no is sum of first two no\n",
    "a=int(input(\"Enter first number:\"))\n",
    "b=int(input(\"Enter second number:\"))\n",
    "c=int(input(\"Enter third number:\"))\n",
    "if c==a+b:\n",
    "    print(\"Yes,the third number is sum of the first two.\")\n",
    "else:\n",
    "    print(\"No,the third number is not sum of the first two.\")"
   ]
  },
  {
   "cell_type": "code",
   "execution_count": 28,
   "id": "02203de9-5b30-4a72-bad0-4457e6e19f9d",
   "metadata": {},
   "outputs": [],
   "source": [
    "#returns the factorial of a no\n",
    "def factorial(n):\n",
    "    if n < 0:\n",
    "        return \"Factorial is not defined for negative numbers.\"\n",
    "    if n == 0 or n == 1:\n",
    "        return 1\n",
    "    return n * factorial(n - 1)"
   ]
  },
  {
   "cell_type": "code",
   "execution_count": 19,
   "id": "52b1f975-74d4-41bf-a729-a8552b11bbf8",
   "metadata": {},
   "outputs": [
    {
     "name": "stdin",
     "output_type": "stream",
     "text": [
      "Enter numerator:  9\n",
      "Enter denominator:  3\n"
     ]
    },
    {
     "name": "stdout",
     "output_type": "stream",
     "text": [
      "9.0 / 3.0 = 3.0\n"
     ]
    }
   ],
   "source": [
    "#divison with zero check\n",
    "def division():\n",
    "    num1 = float(input(\"Enter numerator: \"))\n",
    "    num2 = float(input(\"Enter denominator: \"))\n",
    "    if num2 == 0:\n",
    "        print(\"Error: Division by zero is not allowed.\")\n",
    "    else:\n",
    "        result = num1 / num2\n",
    "        print(f\"{num1} / {num2} = {result}\")\n",
    "    division()"
   ]
  },
  {
   "cell_type": "code",
   "execution_count": 21,
   "id": "f12ed21b-de30-46cf-a1b7-48a12eee4f49",
   "metadata": {},
   "outputs": [
    {
     "name": "stdin",
     "output_type": "stream",
     "text": [
      "Enter numbers separated by spaces:  6\n"
     ]
    },
    {
     "name": "stdout",
     "output_type": "stream",
     "text": [
      "Maximum value: 6.0\n"
     ]
    }
   ],
   "source": [
    "#max value in the list\n",
    "def find_max(numbers):\n",
    "    if not numbers:\n",
    "        return \"List is empty.\"\n",
    "    max_val = numbers[0]\n",
    "    for num in numbers[1:]:\n",
    "        if num > max_val:\n",
    "            max_val = num\n",
    "    return max_val\n",
    "\n",
    "def main():\n",
    "    input_str = input(\"Enter numbers separated by spaces: \")\n",
    "    numbers = [float(x) for x in input_str.split()]\n",
    "    result = find_max(numbers)\n",
    "    print(\"Maximum value:\", result)\n",
    "    main()"
   ]
  },
  {
   "cell_type": "code",
   "execution_count": 22,
   "id": "e094e424-cbee-4ed0-9a3d-88e8299a4416",
   "metadata": {},
   "outputs": [
    {
     "name": "stdin",
     "output_type": "stream",
     "text": [
      "Enter your name:  sam\n",
      "Enter your age (or press Enter for default 25):  18\n"
     ]
    },
    {
     "name": "stdout",
     "output_type": "stream",
     "text": [
      "Hello, sam! You are 18 years old.\n"
     ]
    }
   ],
   "source": [
    "#greeting with age value\n",
    "def greet(name, age=25):\n",
    "    print(f\"Hello, {name}! You are {age} years old.\")\n",
    "def main():\n",
    "    name = input(\"Enter your name: \")\n",
    "    age_input = input(\"Enter your age (or press Enter for default 25): \")\n",
    "    if age_input == \"\":\n",
    "        greet(name)\n",
    "    else:\n",
    "        age = int(age_input)\n",
    "        greet(name, age)\n",
    "    main()"
   ]
  },
  {
   "cell_type": "code",
   "execution_count": 23,
   "id": "dd6d4d95-3ec3-4337-ac19-f76bdb57bd24",
   "metadata": {},
   "outputs": [
    {
     "name": "stdin",
     "output_type": "stream",
     "text": [
      "Enter a string:  umicko\n"
     ]
    },
    {
     "name": "stdout",
     "output_type": "stream",
     "text": [
      "Number of vowels: 3\n"
     ]
    }
   ],
   "source": [
    "#count vowels in string\n",
    "def count_vowels():\n",
    "    text = input(\"Enter a string: \")\n",
    "    vowels = \"aeiouAEIOU\"\n",
    "    count = sum(1 for char in text if char in vowels)\n",
    "    print(f\"Number of vowels: {count}\")\n",
    "    count_vowels()"
   ]
  },
  {
   "cell_type": "code",
   "execution_count": 24,
   "id": "b0393278-bae1-4547-8146-ec85d56f40f0",
   "metadata": {},
   "outputs": [
    {
     "name": "stdin",
     "output_type": "stream",
     "text": [
      "Enter a number:  9\n"
     ]
    },
    {
     "name": "stdout",
     "output_type": "stream",
     "text": [
      "9 x 1 = 9\n",
      "9 x 2 = 18\n",
      "9 x 3 = 27\n",
      "9 x 4 = 36\n",
      "9 x 5 = 45\n",
      "9 x 6 = 54\n",
      "9 x 7 = 63\n",
      "9 x 8 = 72\n",
      "9 x 9 = 81\n",
      "9 x 10 = 90\n"
     ]
    }
   ],
   "source": [
    "#multiplication table\n",
    "def multiplication_table():\n",
    "    num = int(input(\"Enter a number: \"))\n",
    "    for i in range(1, 11):\n",
    "        print(f\"{num} x {i} = {num * i}\")\n",
    "    multiplication_table()"
   ]
  },
  {
   "cell_type": "code",
   "execution_count": 25,
   "id": "83be9211-343f-446e-83b8-7bcf8c01f889",
   "metadata": {},
   "outputs": [
    {
     "name": "stdin",
     "output_type": "stream",
     "text": [
      "Enter number of rows:  5\n"
     ]
    },
    {
     "name": "stdout",
     "output_type": "stream",
     "text": [
      "*\n",
      "**\n",
      "***\n",
      "****\n",
      "*****\n"
     ]
    }
   ],
   "source": [
    "#right angle triangle of stars\n",
    "def right_triangle():\n",
    "    rows = int(input(\"Enter number of rows: \"))\n",
    "    if rows < 0:\n",
    "        print(\"Please enter a non-negative number.\")\n",
    "        return\n",
    "    for i in range(1, rows + 1):\n",
    "        print(\"*\" * i)\n",
    "    right_triangle()"
   ]
  },
  {
   "cell_type": "code",
   "execution_count": 26,
   "id": "3a39fbbb-bbbb-4df3-b553-82f4a71afd52",
   "metadata": {},
   "outputs": [
    {
     "name": "stdin",
     "output_type": "stream",
     "text": [
      "Enter number of rows:  5\n"
     ]
    },
    {
     "name": "stdout",
     "output_type": "stream",
     "text": [
      "    *\n",
      "   ***\n",
      "  *****\n",
      " *******\n",
      "*********\n"
     ]
    }
   ],
   "source": [
    "#pyramid of stars\n",
    "def pyramid():\n",
    "    rows = int(input(\"Enter number of rows: \"))\n",
    "    if rows < 0:\n",
    "        print(\"Please enter a non-negative number.\")\n",
    "        return\n",
    "    for i in range(rows):\n",
    "        print(\" \" * (rows - i - 1) + \"*\" * (2 * i + 1))\n",
    "    pyramid()"
   ]
  },
  {
   "cell_type": "code",
   "execution_count": null,
   "id": "13e82267-aaa2-4736-aade-408432ea117f",
   "metadata": {},
   "outputs": [],
   "source": [
    "SECTION{B}"
   ]
  },
  {
   "cell_type": "code",
   "execution_count": 29,
   "id": "c10675fd-af11-4067-9e5f-60b007690396",
   "metadata": {},
   "outputs": [
    {
     "name": "stdout",
     "output_type": "stream",
     "text": [
      "True\n",
      "False\n"
     ]
    }
   ],
   "source": [
    "# 1) Palindrome number\n",
    "def is_palindrome(x):\n",
    "    return str(x) == str(x)[::-1]\n",
    "print(is_palindrome(121)) \n",
    "print(is_palindrome(123))"
   ]
  },
  {
   "cell_type": "code",
   "execution_count": 30,
   "id": "689224a6-9d4b-44ea-8331-e9380a8a2818",
   "metadata": {},
   "outputs": [
    {
     "name": "stdout",
     "output_type": "stream",
     "text": [
      "5\n"
     ]
    }
   ],
   "source": [
    "# 2) Single number\n",
    "nums = [2, 3, 5, 2, 3]\n",
    "for num in nums:\n",
    "    if nums.count(num) == 1:\n",
    "        print(num)\n",
    "        break"
   ]
  },
  {
   "cell_type": "code",
   "execution_count": 31,
   "id": "0f49fe23-d10e-43aa-af2d-62ebb58680ea",
   "metadata": {},
   "outputs": [
    {
     "name": "stdout",
     "output_type": "stream",
     "text": [
      "0 1\n"
     ]
    }
   ],
   "source": [
    "# 3) Two sum\n",
    "nums = [2, 7, 11, 15]\n",
    "target = 9\n",
    "\n",
    "for i in range(len(nums)):\n",
    "    for j in range(i + 1, len(nums)):\n",
    "        if nums[i] + nums[j] == target:\n",
    "            print(i, j)\n",
    "            break"
   ]
  },
  {
   "cell_type": "code",
   "execution_count": 32,
   "id": "c8b0901b-aa02-4532-8c3a-0391a437ac7e",
   "metadata": {},
   "outputs": [
    {
     "name": "stdout",
     "output_type": "stream",
     "text": [
      "True\n"
     ]
    }
   ],
   "source": [
    "# 4) Happy Number\n",
    "def is_happy(n):\n",
    "    seen = set()\n",
    "    while n != 1 and n not in seen:\n",
    "        seen.add(n)\n",
    "        n = sum(int(digit) ** 2 for digit in str(n))\n",
    "    return n == 1\n",
    "print(is_happy(19))  # True"
   ]
  },
  {
   "cell_type": "code",
   "execution_count": 33,
   "id": "b25379c4-cab5-4dd5-bcea-81f7f6e2a7d2",
   "metadata": {},
   "outputs": [
    {
     "name": "stdout",
     "output_type": "stream",
     "text": [
      "True\n",
      "False\n"
     ]
    }
   ],
   "source": [
    "# 5)Duplicate number\n",
    "def contains_duplicate(nums):\n",
    "    return len(nums) != len(set(nums))\n",
    "print(contains_duplicate([1, 2, 3, 1]))  \n",
    "print(contains_duplicate([1, 2, 3]))"
   ]
  },
  {
   "cell_type": "code",
   "execution_count": null,
   "id": "d4b09527-4d32-4bd8-95f8-b767adb0bf14",
   "metadata": {},
   "outputs": [],
   "source": []
  }
 ],
 "metadata": {
  "kernelspec": {
   "display_name": "Python 3 (ipykernel)",
   "language": "python",
   "name": "python3"
  },
  "language_info": {
   "codemirror_mode": {
    "name": "ipython",
    "version": 3
   },
   "file_extension": ".py",
   "mimetype": "text/x-python",
   "name": "python",
   "nbconvert_exporter": "python",
   "pygments_lexer": "ipython3",
   "version": "3.12.7"
  }
 },
 "nbformat": 4,
 "nbformat_minor": 5
}
